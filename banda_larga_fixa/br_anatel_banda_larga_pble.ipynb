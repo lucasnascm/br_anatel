{
  "nbformat": 4,
  "nbformat_minor": 0,
  "metadata": {
    "colab": {
      "name": "br_anatel_banda_larga_pble",
      "provenance": []
    },
    "kernelspec": {
      "name": "python3",
      "display_name": "Python 3"
    }
  },
  "cells": [
    {
      "cell_type": "code",
      "metadata": {
        "id": "7_B-El2kGidl"
      },
      "source": [
        "import pandas as pd\n",
        "import datetime"
      ],
      "execution_count": 1,
      "outputs": []
    },
    {
      "cell_type": "code",
      "metadata": {
        "id": "_B2VWVdmGfKi"
      },
      "source": [
        "#importação da base\n",
        "url = 'http://www.anatel.gov.br/dadosabertos/PDA/PBLE/PBLE.csv'\n",
        "pble = pd.read_csv(url, sep=';', encoding='latin-1')"
      ],
      "execution_count": 40,
      "outputs": []
    },
    {
      "cell_type": "code",
      "metadata": {
        "id": "E7sP5ioa20_9"
      },
      "source": [
        "#renomeando variáveis\n",
        "pble.rename(columns={'Prestadora':'empresa', 'Nº INEP': 'id_escola', 'UF':'sigla_uf', 'Municipio':'municipio', 'Situação':'situacao',\n",
        "              'Tipo de Obrigação':'programa', 'Velocidade de Acesso Instalada':'velocidade_conexão', 'Tecnologia':'tecnologia',\n",
        "             'Nome da Escola':'nome_escola', 'Tipo Escola':'tipo_escola', 'Data de Ativação':'data_ativacao'}, inplace=True)"
      ],
      "execution_count": 41,
      "outputs": []
    },
    {
      "cell_type": "code",
      "metadata": {
        "id": "LkeX12Q15Wgd"
      },
      "source": [
        "#exclusão de variaveis unicas: todas instaladas, programa PBLE, mes/ano de atualizacao\n",
        "pble.drop(['situacao', 'programa', 'Mes', 'Ano'], axis=1, inplace=True)"
      ],
      "execution_count": 42,
      "outputs": []
    },
    {
      "cell_type": "code",
      "metadata": {
        "id": "yC6HseGm2tXL"
      },
      "source": [
        "#transformar pra formato data\n",
        "pble['data_ativacao']=pd.to_datetime(pble['data_ativacao'].astype(str), format='%d/%m/%Y')"
      ],
      "execution_count": 43,
      "outputs": []
    },
    {
      "cell_type": "code",
      "metadata": {
        "id": "NC7mHilwAski"
      },
      "source": [
        "#criacao de colunas separadas por ano/mes/dia\n",
        "pble['ano'] = pble['data_ativacao'].dt.year\n",
        "pble['mes'] = pble['data_ativacao'].dt.month\n",
        "pble['dia'] = pble['data_ativacao'].dt.day"
      ],
      "execution_count": 44,
      "outputs": []
    },
    {
      "cell_type": "code",
      "metadata": {
        "id": "BxAzjmgMkDmR"
      },
      "source": [
        "#retirar [*] de algumas observações\n",
        "pble['id_escola'] = pble['id_escola'].apply(lambda x: str(x).replace('[*]',''))"
      ],
      "execution_count": 48,
      "outputs": []
    },
    {
      "cell_type": "code",
      "metadata": {
        "colab": {
          "base_uri": "https://localhost:8080/"
        },
        "id": "dSMIaY_vk4oW",
        "outputId": "b1108eb5-0b51-4dbf-8928-ac8ea3563d58"
      },
      "source": [
        "#salvar arquivos no Drive\n",
        "from google.colab import drive\n",
        "drive.mount('/content/drive')"
      ],
      "execution_count": 53,
      "outputs": [
        {
          "output_type": "stream",
          "text": [
            "Mounted at /content/drive\n"
          ],
          "name": "stdout"
        }
      ]
    },
    {
      "cell_type": "code",
      "metadata": {
        "id": "BDbIOPFck7PW"
      },
      "source": [
        "#exportação para csv\n",
        "pble.to_csv('/content/drive/MyDrive/br_anatel/banda_larga_fixa/output/banda_larga_pble', index=False)"
      ],
      "execution_count": 54,
      "outputs": []
    }
  ]
}