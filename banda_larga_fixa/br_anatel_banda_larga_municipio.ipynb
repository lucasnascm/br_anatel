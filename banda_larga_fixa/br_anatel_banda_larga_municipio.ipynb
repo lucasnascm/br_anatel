{
  "nbformat": 4,
  "nbformat_minor": 0,
  "metadata": {
    "colab": {
      "name": "br_anatel_banda_larga_municipio",
      "provenance": []
    },
    "kernelspec": {
      "name": "python3",
      "display_name": "Python 3"
    },
    "language_info": {
      "name": "python"
    }
  },
  "cells": [
    {
      "cell_type": "code",
      "metadata": {
        "colab": {
          "base_uri": "https://localhost:8080/"
        },
        "id": "fRlg_B78Exdi",
        "outputId": "7e0eebfa-c3c2-47ee-dae6-929e36c8fe9d"
      },
      "source": [
        "#salvar arquivos no Drive\n",
        "from google.colab import drive\n",
        "drive.mount('/content/drive')"
      ],
      "execution_count": 2,
      "outputs": [
        {
          "output_type": "stream",
          "text": [
            "Mounted at /content/drive\n"
          ],
          "name": "stdout"
        }
      ]
    },
    {
      "cell_type": "code",
      "metadata": {
        "id": "V4xsBoPwFFC_"
      },
      "source": [
        "import pandas as pd\n",
        "import numpy as np"
      ],
      "execution_count": 4,
      "outputs": []
    },
    {
      "cell_type": "code",
      "metadata": {
        "colab": {
          "base_uri": "https://localhost:8080/"
        },
        "id": "OB1uONWmE92Q",
        "outputId": "a2244bb1-039a-43e1-be42-ce93cb527239"
      },
      "source": [
        "bl = pd.read_csv('/content/drive/MyDrive/br_anatel/banda_larga_fixa/output/banda_larga_microdados')"
      ],
      "execution_count": 5,
      "outputs": [
        {
          "output_type": "stream",
          "text": [
            "/usr/local/lib/python3.7/dist-packages/IPython/core/interactiveshell.py:2718: DtypeWarning: Columns (13) have mixed types.Specify dtype option on import or set low_memory=False.\n",
            "  interactivity=interactivity, compiler=compiler, result=result)\n"
          ],
          "name": "stderr"
        }
      ]
    },
    {
      "cell_type": "code",
      "metadata": {
        "id": "Ske2b9ehFRwR"
      },
      "source": [
        "#exclusao de variaveis\n",
        "bl_munic = bl.drop(['grupo_economico', 'empresa','cnpj', 'porte_empresa', 'tecnologia', 'pessoa'], axis = 1)"
      ],
      "execution_count": 15,
      "outputs": []
    },
    {
      "cell_type": "code",
      "metadata": {
        "colab": {
          "base_uri": "https://localhost:8080/",
          "height": 221
        },
        "id": "kszghwQOG9Kg",
        "outputId": "c74e2101-5b8c-4895-e9e5-a2ff16ff882c"
      },
      "source": [
        "print(bl_munic.shape)\n",
        "bl_munic.head()"
      ],
      "execution_count": 16,
      "outputs": [
        {
          "output_type": "stream",
          "text": [
            "(15012928, 8)\n"
          ],
          "name": "stdout"
        },
        {
          "output_type": "execute_result",
          "data": {
            "text/html": [
              "<div>\n",
              "<style scoped>\n",
              "    .dataframe tbody tr th:only-of-type {\n",
              "        vertical-align: middle;\n",
              "    }\n",
              "\n",
              "    .dataframe tbody tr th {\n",
              "        vertical-align: top;\n",
              "    }\n",
              "\n",
              "    .dataframe thead th {\n",
              "        text-align: right;\n",
              "    }\n",
              "</style>\n",
              "<table border=\"1\" class=\"dataframe\">\n",
              "  <thead>\n",
              "    <tr style=\"text-align: right;\">\n",
              "      <th></th>\n",
              "      <th>ano</th>\n",
              "      <th>mes</th>\n",
              "      <th>sigla_uf</th>\n",
              "      <th>municipio</th>\n",
              "      <th>id_municipio</th>\n",
              "      <th>velocidade</th>\n",
              "      <th>transmissao</th>\n",
              "      <th>acessos</th>\n",
              "    </tr>\n",
              "  </thead>\n",
              "  <tbody>\n",
              "    <tr>\n",
              "      <th>0</th>\n",
              "      <td>2007</td>\n",
              "      <td>3</td>\n",
              "      <td>RO</td>\n",
              "      <td>Alta Floresta D'Oeste</td>\n",
              "      <td>1100015</td>\n",
              "      <td>512kbps a 2Mbps</td>\n",
              "      <td>Fibra</td>\n",
              "      <td>1</td>\n",
              "    </tr>\n",
              "    <tr>\n",
              "      <th>1</th>\n",
              "      <td>2007</td>\n",
              "      <td>3</td>\n",
              "      <td>RO</td>\n",
              "      <td>Alta Floresta D'Oeste</td>\n",
              "      <td>1100015</td>\n",
              "      <td>64Kbps a 512Kbps</td>\n",
              "      <td>Satélite</td>\n",
              "      <td>1</td>\n",
              "    </tr>\n",
              "    <tr>\n",
              "      <th>2</th>\n",
              "      <td>2007</td>\n",
              "      <td>3</td>\n",
              "      <td>RO</td>\n",
              "      <td>Alta Floresta D'Oeste</td>\n",
              "      <td>1100015</td>\n",
              "      <td>64Kbps a 512Kbps</td>\n",
              "      <td>Outra</td>\n",
              "      <td>7</td>\n",
              "    </tr>\n",
              "    <tr>\n",
              "      <th>3</th>\n",
              "      <td>2007</td>\n",
              "      <td>3</td>\n",
              "      <td>RO</td>\n",
              "      <td>Alta Floresta D'Oeste</td>\n",
              "      <td>1100015</td>\n",
              "      <td>0Kbps a 64Kbps</td>\n",
              "      <td>Cabo Metálico</td>\n",
              "      <td>2</td>\n",
              "    </tr>\n",
              "    <tr>\n",
              "      <th>4</th>\n",
              "      <td>2007</td>\n",
              "      <td>3</td>\n",
              "      <td>RO</td>\n",
              "      <td>Alta Floresta D'Oeste</td>\n",
              "      <td>1100015</td>\n",
              "      <td>512kbps a 2Mbps</td>\n",
              "      <td>Cabo Metálico</td>\n",
              "      <td>63</td>\n",
              "    </tr>\n",
              "  </tbody>\n",
              "</table>\n",
              "</div>"
            ],
            "text/plain": [
              "    ano  mes sigla_uf  ...        velocidade    transmissao acessos\n",
              "0  2007    3       RO  ...   512kbps a 2Mbps          Fibra       1\n",
              "1  2007    3       RO  ...  64Kbps a 512Kbps       Satélite       1\n",
              "2  2007    3       RO  ...  64Kbps a 512Kbps          Outra       7\n",
              "3  2007    3       RO  ...    0Kbps a 64Kbps  Cabo Metálico       2\n",
              "4  2007    3       RO  ...   512kbps a 2Mbps  Cabo Metálico      63\n",
              "\n",
              "[5 rows x 8 columns]"
            ]
          },
          "metadata": {
            "tags": []
          },
          "execution_count": 16
        }
      ]
    },
    {
      "cell_type": "code",
      "metadata": {
        "id": "amKlC29cGyPC"
      },
      "source": [
        "#collapse para acessos\n",
        "bl_munic['acessos_total'] = bl_munic.groupby(['ano', 'mes', 'id_municipio', 'velocidade', 'transmissao'])['acessos'].transform(np.sum)\n",
        "#ordenamento das variaveis\n",
        "bl_munic.sort_values(['ano', 'mes', 'id_municipio', 'velocidade', 'transmissao'], inplace=True)\n",
        "#exclusão das variaveis duplicadas\n",
        "bl_munic.drop_duplicates(subset=['ano', 'mes', 'id_municipio', 'velocidade', 'transmissao'], keep ='first', inplace = True)\n",
        "#exclusão da coluna de acessos\n",
        "bl_munic.drop('acessos', axis=1, inplace=True)\n",
        "#renome da coluna de acessos total\n",
        "bl_munic.rename(columns={'acessos_total':'acessos'}, inplace=True)"
      ],
      "execution_count": 17,
      "outputs": []
    },
    {
      "cell_type": "code",
      "metadata": {
        "id": "tdhaqWI8H3gw"
      },
      "source": [
        "#exportação para csv\n",
        "bl_munic.to_csv('/content/drive/MyDrive/br_anatel/banda_larga_fixa/output/banda_larga_municipios', index=False)"
      ],
      "execution_count": 20,
      "outputs": []
    }
  ]
}