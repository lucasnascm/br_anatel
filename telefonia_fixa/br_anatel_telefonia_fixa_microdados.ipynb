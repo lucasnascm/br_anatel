{
  "nbformat": 4,
  "nbformat_minor": 0,
  "metadata": {
    "colab": {
      "name": "br_anatel_telefonia_fixa_microdados",
      "provenance": []
    },
    "kernelspec": {
      "name": "python3",
      "display_name": "Python 3"
    },
    "language_info": {
      "name": "python"
    }
  },
  "cells": [
    {
      "cell_type": "code",
      "metadata": {
        "colab": {
          "base_uri": "https://localhost:8080/"
        },
        "id": "PjMrkdQ-6rdb",
        "outputId": "4b432552-8bf3-46d7-a64f-500d339c0b58"
      },
      "source": [
        "!wget -p https://www.anatel.gov.br/dadosabertos/paineis_de_dados/acessos/acessos_telefonia_fixa.zip"
      ],
      "execution_count": 1,
      "outputs": [
        {
          "output_type": "stream",
          "text": [
            "--2021-05-23 10:22:46--  https://www.anatel.gov.br/dadosabertos/paineis_de_dados/acessos/acessos_telefonia_fixa.zip\n",
            "Resolving www.anatel.gov.br (www.anatel.gov.br)... 200.0.81.81, 2801:80:c90:c1da:da0:2312:2000:1331\n",
            "Connecting to www.anatel.gov.br (www.anatel.gov.br)|200.0.81.81|:443... connected.\n",
            "HTTP request sent, awaiting response... 200 OK\n",
            "Length: 93070223 (89M) [application/x-zip-compressed]\n",
            "Saving to: ‘www.anatel.gov.br/dadosabertos/paineis_de_dados/acessos/acessos_telefonia_fixa.zip’\n",
            "\n",
            "www.anatel.gov.br/d 100%[===================>]  88.76M   672KB/s    in 2m 17s  \n",
            "\n",
            "2021-05-23 10:25:04 (663 KB/s) - ‘www.anatel.gov.br/dadosabertos/paineis_de_dados/acessos/acessos_telefonia_fixa.zip’ saved [93070223/93070223]\n",
            "\n",
            "FINISHED --2021-05-23 10:25:04--\n",
            "Total wall clock time: 2m 18s\n",
            "Downloaded: 1 files, 89M in 2m 17s (663 KB/s)\n"
          ],
          "name": "stdout"
        }
      ]
    },
    {
      "cell_type": "code",
      "metadata": {
        "id": "EIrSCtyp6-O5"
      },
      "source": [
        "import pandas as pd\n",
        "import numpy as np\n",
        "import os\n",
        "from zipfile import ZipFile"
      ],
      "execution_count": 2,
      "outputs": []
    },
    {
      "cell_type": "code",
      "metadata": {
        "id": "5kBWp3it7A2-"
      },
      "source": [
        "#decodificando os arquivos\n",
        "pasta = '/content/www.anatel.gov.br/dadosabertos/paineis_de_dados/acessos'\n",
        "fixed = os.path.join(pasta, 'acessos_telefonia_fixa.zip')"
      ],
      "execution_count": 3,
      "outputs": []
    },
    {
      "cell_type": "code",
      "metadata": {
        "colab": {
          "base_uri": "https://localhost:8080/"
        },
        "id": "um1n_3WS8is-",
        "outputId": "02f7e36e-3c17-4108-a7c9-5a18916bd25b"
      },
      "source": [
        "#os arquivos são separadso em empresas autorizadas e concessionárias\n",
        "with ZipFile(fixed) as z:\n",
        "  with z.open(f'Acessos_Telefonia_Fixa_Autorizadas.csv') as f:\n",
        "    tf_aut = pd.read_csv(f,sep=';', encoding='utf-8')"
      ],
      "execution_count": 4,
      "outputs": [
        {
          "output_type": "stream",
          "text": [
            "/usr/local/lib/python3.7/dist-packages/IPython/core/interactiveshell.py:2718: DtypeWarning: Columns (10,11) have mixed types.Specify dtype option on import or set low_memory=False.\n",
            "  interactivity=interactivity, compiler=compiler, result=result)\n"
          ],
          "name": "stderr"
        }
      ]
    },
    {
      "cell_type": "code",
      "metadata": {
        "colab": {
          "base_uri": "https://localhost:8080/"
        },
        "id": "WjFWJVMf8txt",
        "outputId": "22bd6081-ef2f-4c95-9af5-f7d48acaed97"
      },
      "source": [
        "with ZipFile(fixed) as z:\n",
        "  with z.open(f'Acessos_Telefonia_Fixa_Concessionarias.csv') as f:\n",
        "    tf_conc = pd.read_csv(f,sep=';', encoding='utf-8')"
      ],
      "execution_count": 5,
      "outputs": [
        {
          "output_type": "stream",
          "text": [
            "/usr/local/lib/python3.7/dist-packages/IPython/core/interactiveshell.py:2718: DtypeWarning: Columns (11,12) have mixed types.Specify dtype option on import or set low_memory=False.\n",
            "  interactivity=interactivity, compiler=compiler, result=result)\n"
          ],
          "name": "stderr"
        }
      ]
    },
    {
      "cell_type": "code",
      "metadata": {
        "id": "JRFYpfPR_F9h"
      },
      "source": [
        "#renomeando variaveis\n",
        "tf_aut.rename(columns={'Ano': 'ano','Mês':'mes', 'Grupo Econômico':'grupo_economico', 'Empresa':'empresa',\n",
        "                      'CNPJ':'cnpj', 'Porte da Prestadora':'porte_empresa', 'UF':'sigla_uf', 'Município':'municipio',\n",
        "                      'Código IBGE Município':'id_municipio', 'Tipo de Outorga':'outorga', 'Tipo de Pessoa':'pessoa',\n",
        "                       'Tipo de Atendimento': 'atendimento', 'Acessos':'acessos'}, inplace=True)"
      ],
      "execution_count": 6,
      "outputs": []
    },
    {
      "cell_type": "code",
      "metadata": {
        "id": "S5IkMun4Al8_"
      },
      "source": [
        "tf_conc.rename(columns={'Ano': 'ano','Mês':'mes', 'Grupo Econômico':'grupo_economico', 'Empresa':'empresa',\n",
        "                      'CNPJ':'cnpj', 'Porte da Prestadora':'porte_empresa', 'UF':'sigla_uf', 'Município':'municipio',\n",
        "                      'Código IBGE Município':'id_municipio', 'Tipo de Outorga':'outorga', 'Tipo do Acesso': 'tipo_acesso',\n",
        "                      'Tipo de Pessoa':'pessoa', 'Tipo de Atendimento': 'atendimento', 'Acessos':'acessos'}, inplace=True)"
      ],
      "execution_count": 7,
      "outputs": []
    },
    {
      "cell_type": "code",
      "metadata": {
        "id": "XVXkK-pYBPXV"
      },
      "source": [
        "#exportacao arquivo csv\n",
        "#tf_aut.to_csv('/content/telefonia_fixa_autorizadas_microdados.csv', index=False)\n",
        "#tf_conc.to_csv('/content/telefonia_fixa_concessionarias_microdados.csv', index=False)"
      ],
      "execution_count": null,
      "outputs": []
    },
    {
      "cell_type": "code",
      "metadata": {
        "colab": {
          "base_uri": "https://localhost:8080/"
        },
        "id": "_rkQRNp881zd",
        "outputId": "88cc6448-6394-4ee7-a536-3fc18cfe6ca4"
      },
      "source": [
        "#salvar arquivos no Drive\n",
        "from google.colab import drive\n",
        "drive.mount('/content/drive')"
      ],
      "execution_count": 8,
      "outputs": [
        {
          "output_type": "stream",
          "text": [
            "Mounted at /content/drive\n"
          ],
          "name": "stdout"
        }
      ]
    },
    {
      "cell_type": "code",
      "metadata": {
        "id": "QnQTpfpkBDWn"
      },
      "source": [
        "#exportacao csv no Drive\n",
        "tf_aut.to_csv('/content/drive/MyDrive/br_anatel/telefonia_fixa/output/telefonia_fixa_microdados_autorizadas', index=False)\n",
        "tf_conc.to_csv('/content/drive/MyDrive/br_anatel/telefonia_fixa/output/telefonia_fixa_microdados_concessionarias', index=False)"
      ],
      "execution_count": 73,
      "outputs": []
    }
  ]
}