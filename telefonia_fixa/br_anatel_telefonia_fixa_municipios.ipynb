{
  "nbformat": 4,
  "nbformat_minor": 0,
  "metadata": {
    "colab": {
      "name": "br_anatel_telefonia_fixa_municipios",
      "provenance": []
    },
    "kernelspec": {
      "name": "python3",
      "display_name": "Python 3"
    },
    "language_info": {
      "name": "python"
    }
  },
  "cells": [
    {
      "cell_type": "code",
      "metadata": {
        "id": "9J-KVaIB8h-N"
      },
      "source": [
        "#download dados telefonia fixa\n",
        "#https://colab.research.google.com/drive/1NVONLrmWJQ0VyiGU5U6e6IAAriECdAbf?usp=sharing"
      ],
      "execution_count": null,
      "outputs": []
    },
    {
      "cell_type": "code",
      "metadata": {
        "colab": {
          "base_uri": "https://localhost:8080/"
        },
        "id": "1TVZtG6o8P5X",
        "outputId": "fce4344a-4dd8-4d85-c771-228e85ebc7a9"
      },
      "source": [
        "from google.colab import drive\n",
        "drive.mount('/content/drive')"
      ],
      "execution_count": 1,
      "outputs": [
        {
          "output_type": "stream",
          "text": [
            "Mounted at /content/drive\n"
          ],
          "name": "stdout"
        }
      ]
    },
    {
      "cell_type": "code",
      "metadata": {
        "id": "sDjmB-Qr83sQ"
      },
      "source": [
        "import pandas as pd\n",
        "import numpy as np"
      ],
      "execution_count": 3,
      "outputs": []
    },
    {
      "cell_type": "code",
      "metadata": {
        "colab": {
          "base_uri": "https://localhost:8080/"
        },
        "id": "Bdnzfp5g8okW",
        "outputId": "a2ca5c5d-6f57-483e-9a94-ab64e7a1eef4"
      },
      "source": [
        "tf_aut = pd.read_csv('/content/drive/MyDrive/br_anatel/telefonia_fixa/input/telefonia_fixa_microdados_autorizadas')\n",
        "tf_conc = pd.read_csv('/content/drive/MyDrive/br_anatel/telefonia_fixa/input/telefonia_fixa_microdados_concessionarias')"
      ],
      "execution_count": 4,
      "outputs": [
        {
          "output_type": "stream",
          "text": [
            "/usr/local/lib/python3.7/dist-packages/IPython/core/interactiveshell.py:2718: DtypeWarning: Columns (10,11) have mixed types.Specify dtype option on import or set low_memory=False.\n",
            "  interactivity=interactivity, compiler=compiler, result=result)\n",
            "/usr/local/lib/python3.7/dist-packages/IPython/core/interactiveshell.py:2718: DtypeWarning: Columns (11,12) have mixed types.Specify dtype option on import or set low_memory=False.\n",
            "  interactivity=interactivity, compiler=compiler, result=result)\n"
          ],
          "name": "stderr"
        }
      ]
    },
    {
      "cell_type": "code",
      "metadata": {
        "id": "sBVAUYS5CDe1"
      },
      "source": [
        "#base unica para municipios\n",
        "tf_municipios = tf_aut.append(tf_conc, ignore_index=True)"
      ],
      "execution_count": 5,
      "outputs": []
    },
    {
      "cell_type": "code",
      "metadata": {
        "id": "hyyoLIelFK54"
      },
      "source": [
        "#exclusão de variaveis\n",
        "tf_municipios.drop(['grupo_economico', 'empresa', 'cnpj', 'porte_empresa', 'pessoa', 'tipo_acesso', 'atendimento'], axis=1, inplace=True)"
      ],
      "execution_count": 6,
      "outputs": []
    },
    {
      "cell_type": "code",
      "metadata": {
        "id": "XZX895hZHDRf"
      },
      "source": [
        "#collapse para total de acessos\n",
        "tf_municipios['acessos_total'] = tf_municipios.groupby(['id_municipio', 'ano', 'mes', 'outorga', 'sigla_uf'], dropna=False)['acessos'].transform(np.sum)"
      ],
      "execution_count": 7,
      "outputs": []
    },
    {
      "cell_type": "code",
      "metadata": {
        "id": "j7QBVgjsHLAV"
      },
      "source": [
        "#ordenamento das variaveis\n",
        "tf_municipios.sort_values(['id_municipio', 'ano', 'mes', 'outorga', 'sigla_uf'], inplace=True)\n",
        "#exclusão das variaveis duplicadas\n",
        "tf_municipios.drop_duplicates(subset=['id_municipio', 'ano', 'mes', 'outorga', 'sigla_uf'], keep='first', inplace=True)"
      ],
      "execution_count": 8,
      "outputs": []
    },
    {
      "cell_type": "code",
      "metadata": {
        "id": "MdszU4wgCuB2"
      },
      "source": [
        "#exclusão da coluna de acessos\n",
        "tf_municipios.drop('acessos', axis=1, inplace=True)\n",
        "#renome da coluna de acessos total\n",
        "tf_municipios.rename(columns={'acessos_total':'acessos'}, inplace=True)"
      ],
      "execution_count": 9,
      "outputs": []
    },
    {
      "cell_type": "code",
      "metadata": {
        "id": "gbOPUFmdFfr4"
      },
      "source": [
        "#a planilha apresenta 1971 observações de \"Autorizadas\" sem identificação para municipios, agrupando o total de acessos apenas ao nível do estado\n",
        "#exportacao csv no drive\n",
        "tf_municipios.to_csv('/content/drive/MyDrive/br_anatel/telefonia_fixa/output/telefonia_fixa_municipios', index=False)"
      ],
      "execution_count": 11,
      "outputs": []
    }
  ]
}